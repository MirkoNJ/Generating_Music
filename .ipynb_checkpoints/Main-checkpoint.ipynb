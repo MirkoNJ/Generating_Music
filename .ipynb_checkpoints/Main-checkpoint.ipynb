{
 "cells": [
  {
   "cell_type": "code",
   "execution_count": 70,
   "metadata": {},
   "outputs": [
    {
     "name": "stdout",
     "output_type": "stream",
     "text": [
      "The autoreload extension is already loaded. To reload it, use:\n",
      "  %reload_ext autoreload\n"
     ]
    }
   ],
   "source": [
    "import tensorflow as tf\n",
    "import numpy as np\n",
    "from tensorflow.python.ops import math_ops\n",
    "import matplotlib.pyplot as plt\n",
    "import time\n",
    "import Utils.midi_musical_matrix\n",
    "import Utils.data\n",
    "import Utils.multi_training\n",
    "from tensorflow.contrib.rnn import BasicLSTMCell\n",
    "from tensorflow.contrib.rnn import LSTMStateTuple\n",
    "from MyFunctions import Input_Kernel, LSTM_TimeWise_Training_Layer, LSTM_NoteWise_Layer, Loss_Function\n",
    "\n",
    "# Plot configurations\n",
    "% matplotlib inline\n",
    "# Notebook auto reloads code. (Ref: http://stackoverflow.com/questions/1907993/autoreload-of-modules-in-ipython)\n",
    "% load_ext autoreload\n",
    "% autoreload 2"
   ]
  },
  {
   "cell_type": "code",
   "execution_count": 71,
   "metadata": {
    "scrolled": true
   },
   "outputs": [
    {
     "name": "stdout",
     "output_type": "stream",
     "text": [
      "Loaded 01Allemande\n",
      "Loaded 01Prelude\n",
      "Loaded 02Ichdankdir\n",
      "Loaded 03AchGott\n",
      "Loaded 04Allemande\n",
      "Loaded 04Bourree\n",
      "Loaded 04EsistdasHeiluns\n",
      "Loaded 04Prelude\n",
      "Loaded 05AnWasserflussen\n",
      "Loaded 06Christus\n",
      "Loaded 08Freueteuch\n",
      "Loaded 09Ermuntredich\n",
      "Loaded 10AustieferNot\n",
      "Loaded 11Jesu\n",
      "Loaded 13Alleinzudir\n",
      "Loaded 14OHerreGott\n",
      "Loaded 15ChristlaginTode\n",
      "Loaded BRAND1\n",
      "Loaded BRAND3\n",
      "Loaded BRAND43\n",
      "Loaded BRAND51\n",
      "Loaded BRAND52\n",
      "Loaded BRAND53\n",
      "Loaded BSGJG_A\n",
      "Loaded BSGJG_B\n",
      "Loaded BSGJG_C\n",
      "Loaded BSGJG_D\n",
      "Loaded BSGJG_E\n",
      "Loaded BSGJG_F\n",
      "Loaded BSGJG_G\n",
      "Loaded BSGJG_H\n",
      "Loaded BSGJG_I\n",
      "Loaded BSGJG_J\n",
      "Loaded BSGJG_K\n",
      "Loaded BSGJG_L\n",
      "Loaded can4\n",
      "Loaded cap2\n",
      "Loaded catech1\n",
      "Loaded catech10\n",
      "Loaded catech11\n",
      "Loaded catech2\n",
      "Loaded catech3\n",
      "Loaded catech4\n",
      "Loaded catech5\n",
      "Loaded catech6\n",
      "Loaded catech7\n",
      "Loaded catech8\n",
      "Loaded catech9\n",
      "Loaded catechor\n",
      "Loaded cnt1 (1)\n",
      "Loaded cnt1\n",
      "Loaded cnt2\n",
      "Loaded cnt3\n",
      "Loaded dou1\n",
      "Loaded dou2\n",
      "Loaded Fugue1 (1)\n",
      "Loaded Fugue1\n",
      "Skip bad file =  Fugue11\n",
      "Loaded Fugue12 (1)\n",
      "Skip bad file =  Fugue12\n",
      "Skip bad file =  Fugue13\n",
      "Skip bad file =  Fugue15\n",
      "Loaded Fugue16\n",
      "Loaded Fugue17\n",
      "Loaded Fugue18\n",
      "Skip bad file =  Fugue19\n",
      "Loaded Fugue2\n",
      "Loaded Fugue20\n",
      "Loaded Fugue22\n",
      "Loaded Fugue23\n",
      "Loaded Fugue24\n",
      "Loaded Fugue3 (1)\n",
      "Loaded Fugue3\n",
      "Loaded Fugue4\n",
      "Loaded Fugue5 (1)\n",
      "Loaded Fugue5\n",
      "Skip bad file =  Fugue6\n",
      "Loaded Fugue7 (1)\n",
      "Loaded Fugue7\n",
      "Loaded Fugue8 (1)\n",
      "Loaded Fugue8\n",
      "Loaded Fugue9 (1)\n",
      "Loaded Fugue9\n",
      "Loaded fuguecm\n",
      "Loaded fuguegm\n",
      "Loaded gig1\n",
      "Loaded invent1\n",
      "Loaded invent11\n",
      "Loaded invent13\n",
      "Loaded invent14\n",
      "Loaded invent15\n",
      "Loaded invent2\n",
      "Loaded invent5\n",
      "Loaded invent7\n",
      "Loaded inver1\n",
      "Loaded inver2\n",
      "Loaded mir2\n",
      "Loaded orgel19\n",
      "Loaded pre1\n",
      "Loaded prefug1\n",
      "Loaded prefug2\n",
      "Loaded prefug3\n",
      "Loaded prefug5\n",
      "Loaded prefug7\n",
      "Loaded prefug8\n",
      "Loaded Prelude1 (1)\n",
      "Loaded Prelude1\n",
      "Loaded Prelude10\n",
      "Loaded Prelude12 (1)\n",
      "Loaded Prelude12\n",
      "Skip bad file =  Prelude13\n",
      "Skip bad file =  Prelude14\n",
      "Skip bad file =  Prelude15\n",
      "Loaded Prelude16\n",
      "Skip bad file =  Prelude19\n",
      "Loaded Prelude2 (1)\n",
      "Loaded Prelude2\n",
      "Skip bad file =  Prelude20\n",
      "Loaded Prelude21\n",
      "Loaded Prelude22\n",
      "Loaded Prelude23\n",
      "Skip bad file =  Prelude24\n",
      "Loaded Prelude3 (1)\n",
      "Loaded Prelude5\n",
      "Loaded Prelude6\n",
      "Loaded Prelude7\n",
      "Loaded Prelude8 (1)\n",
      "Loaded reg1\n",
      "Loaded reg2\n",
      "Loaded schub5\n",
      "Loaded schub6\n",
      "Loaded sin2\n",
      "Loaded sinfon1 (1)\n",
      "Loaded sinfon1\n",
      "Loaded sinfon12\n",
      "Loaded sinfon14\n",
      "Loaded sinfon3\n",
      "Loaded sinfon4\n",
      "Loaded sinfon8\n",
      "Loaded sinfon9\n",
      "Loaded toccata1\n",
      "Loaded toccata2\n",
      "Loaded tri1\n",
      "Loaded tri2\n",
      "Loaded trio3a\n",
      "Loaded unfin\n",
      "\n",
      "Number of training pieces =  134\n",
      "Sample of Expanded Input Batch: shape =  (10, 78, 128, 80)\n",
      "Sample of State Input Batch: shape =  (10, 78, 128, 2)\n"
     ]
    }
   ],
   "source": [
    "# Import All Training Data\n",
    "# Convert Entire Music .MIDI set to list of 'pieces'\n",
    "# During training runs, getPieceBatch will return a tensor for Note_State_Batch, and corresponding Note_State_Expand\n",
    "# Note_State_Expand will be fed into the graph input, and Note_State_Batch will be used for the loss function.\n",
    "\n",
    "\n",
    "Training_Midi_Folder = \"C:/Users/Paul/Neural_Networks/Project/Generating_Music/Midi_Files/Bach\"\n",
    "\n",
    "training_pieces = Utils.multi_training.loadPieces(Training_Midi_Folder)\n",
    "\n",
    "print('')\n",
    "print('Number of training pieces = ', len(training_pieces))\n",
    "sample_expand, sample_state = Utils.multi_training.getPieceBatch(training_pieces)\n",
    "sample_expand, sample_state = np.array(sample_expand), np.array(sample_state)\n",
    "\n",
    "sample_expand = np.swapaxes(sample_expand, axis1=1, axis2=2)\n",
    "sample_state = np.swapaxes(sample_state, axis1=1, axis2=2)\n",
    "\n",
    "print('Sample of Expanded Input Batch: shape = ', sample_expand.shape)\n",
    "print('Sample of State Input Batch: shape = ', sample_state.shape)\n"
   ]
  },
  {
   "cell_type": "code",
   "execution_count": 86,
   "metadata": {},
   "outputs": [
    {
     "name": "stdout",
     "output_type": "stream",
     "text": [
      "final_t_sample shape =  (?, 78, 1, 2)\n",
      "Note_State_Batch Placeholder Shape =  (?, 78, ?, 2)\n",
      "Note_State_Expand output Shape =  (?, 78, ?, 80)\n"
     ]
    }
   ],
   "source": [
    "# Beginning of Model Graph:\n",
    "tf.reset_default_graph()\n",
    "\n",
    "input_size = sample_expand.shape[-1]\n",
    "num_notes = sample_expand.shape[1]\n",
    "\n",
    "\n",
    "#place holder inputs\n",
    "# num_batches and num_time steps are variable lengths.  These values do not affect the model parameters\n",
    "# Dimension(0) =  num_batches. Dimension(2) = num_time_steps\n",
    "\n",
    "final_t_sample_run = np.zeros((batch_size, num_notes, 1, 2)) #start every batch with zero previous input\n",
    "\n",
    "\n",
    "        \n",
    "Note_State_Batch = tf.placeholder(dtype=tf.float32, shape=[None, num_notes, None, 2])\n",
    "prev_t_sample = tf.placeholder(dtype=tf.float32, shape=[None, num_notes,1,2])\n",
    "\n",
    "#Generates expanded tensor input to LSTM-timewise layer\n",
    "Note_State_Expand, final_t_sample = Input_Kernel(Note_State_Batch, prev_t_sample, Midi_low=24, Midi_high=101)\n",
    "\n",
    "print('Note_State_Batch Placeholder Shape = ', Note_State_Batch.get_shape())\n",
    "print('Note_State_Expand output Shape = ', Note_State_Expand.get_shape())\n",
    "\n",
    "\n",
    "\n"
   ]
  },
  {
   "cell_type": "code",
   "execution_count": 87,
   "metadata": {
    "scrolled": true
   },
   "outputs": [
    {
     "name": "stdout",
     "output_type": "stream",
     "text": [
      "Time-wise output shape =  (?, 78, ?, 50)\n",
      "Time-wise state  =  Tensor(\"Reshape_10:0\", shape=(?, 78, 50), dtype=float32)\n",
      "Time-wise state  =  Tensor(\"Reshape_9:0\", shape=(?, 78, 50), dtype=float32)\n"
     ]
    }
   ],
   "source": [
    "#lSTM Time Wise Training Graph \n",
    "num_units=50\n",
    "timewise_c=tf.placeholder(dtype=tf.float32, shape=[None, num_notes, num_units])\n",
    "timewise_h=tf.placeholder(dtype=tf.float32, shape=[None, num_notes, num_units])\n",
    "timewise_state_in = LSTMStateTuple(timewise_h, timewise_c)\n",
    "\n",
    "#Note_State_Expand = tf.placeholder(dtype=tf.float32, shape=[None, num_notes, None, input_size])\n",
    "timewise_out, timewise_state = LSTM_TimeWise_Training_Layer(input_data=Note_State_Expand, state_in=timewise_state_in)\n",
    "\n",
    "\n",
    "\n",
    "\n",
    "print('Time-wise output shape = ', timewise_out.get_shape())\n",
    "print('Time-wise state  = ', timewise_state[0])\n",
    "print('Time-wise state  = ', timewise_state[1])"
   ]
  },
  {
   "cell_type": "code",
   "execution_count": 88,
   "metadata": {},
   "outputs": [
    {
     "name": "stdout",
     "output_type": "stream",
     "text": [
      "logP out shape =  (?, 78, ?, 2, 2)\n",
      "generated samples shape =  (?, 78, ?, 2)\n"
     ]
    }
   ],
   "source": [
    "#LSTM Note Wise Graph\n",
    "#tf.reset_default_graph()\n",
    "#timewise_out = tf.placeholder(dtype=tf.float32, shape=[None, num_notes, None, 50])\n",
    "logP_out, pa_gen_out = LSTM_NoteWise_Layer(timewise_out)\n",
    "\n",
    "\n",
    "print('logP out shape = ', logP_out.get_shape())\n",
    "print('generated samples shape = ', pa_gen_out.get_shape())\n",
    "\n",
    "\n"
   ]
  },
  {
   "cell_type": "code",
   "execution_count": 89,
   "metadata": {
    "collapsed": true
   },
   "outputs": [],
   "source": [
    "# Loss Function and Optimizer\n",
    "\n",
    "\n",
    "loss = Loss_Function(Note_State_Batch, logP_out)\n",
    "\n",
    "optimizer = tf.train.GradientDescentOptimizer(learning_rate = .1).minimize(loss)\n",
    "\n"
   ]
  },
  {
   "cell_type": "code",
   "execution_count": 91,
   "metadata": {},
   "outputs": [
    {
     "name": "stdout",
     "output_type": "stream",
     "text": [
      "epoch =  0 ; loss =  0.569276\n",
      "epoch =  1 ; loss =  0.465635\n",
      "epoch =  2 ; loss =  0.424906\n",
      "epoch =  3 ; loss =  0.393639\n",
      "epoch =  4 ; loss =  0.376398\n",
      "epoch =  5 ; loss =  0.360899\n",
      "epoch =  6 ; loss =  0.351332\n",
      "epoch =  7 ; loss =  0.341571\n",
      "epoch =  8 ; loss =  0.332301\n",
      "epoch =  9 ; loss =  0.324382\n",
      "Model saved in file: model/First_Trial\n"
     ]
    }
   ],
   "source": [
    "# Training\n",
    "N_epochs = 10\n",
    "loss_hist=[]\n",
    "restore_model_name = 'First_Trial'\n",
    "save_model_name = 'First_Trial'\n",
    "batch_size = 10\n",
    "num_timesteps = 128\n",
    "\n",
    "with tf.Session() as sess:\n",
    "    sess.run(tf.global_variables_initializer())\n",
    "    saver = tf.train.Saver()\n",
    "    \n",
    "    # try to restore the pre_trained\n",
    "    if restore_model_name is not None:\n",
    "        print(\"Load the model from: {}\".format(restore_model_name))\n",
    "        saver.restore(sess, 'model/{}'.format(restore_model_name))\n",
    "    \n",
    "    # Initial States\n",
    "    c_run = np.zeros((batch_size, num_notes, num_units)) #start every batch with zero state in LSTM time cells\n",
    "    h_run = np.zeros((batch_size, num_notes, num_units))\n",
    "    final_t_sample_run = np.zeros((batch_size, num_notes, 1, 2)) #start every batch with zero previous input\n",
    "\n",
    "    # Training Loop\n",
    "    for epoch in range(N_epochs):\n",
    "        \n",
    "        #Generate random batch of training data\n",
    "        _, batch_input_state = Utils.multi_training.getPieceBatch(training_pieces) # not using their 'convolution' filter\n",
    "        batch_input_state = np.array(batch_input_state)\n",
    "        batch_input_state = np.swapaxes(batch_input_state, axis1=1, axis2=2)       \n",
    "        print('batch_input_state shape = ', batch_input_state.shape)\n",
    "\n",
    "        \n",
    "    \n",
    "        feed_dict = {Note_State_Batch: batch_input_state, timewise_c: c_run, timewise_h: h_run, prev_t_sample: final_t_sample_run}\n",
    "        state_run, loss_run, _ = sess.run([timewise_state, loss, optimizer], feed_dict=feed_dict)\n",
    "        \n",
    "        \n",
    "        \n",
    "        print('epoch = ', epoch, '; loss = ', loss_run)\n",
    "        loss_hist.append(loss_run)\n",
    "        \n",
    "    save_path = saver.save(sess, 'model/{}'.format(save_model_name))\n",
    "    print(\"Model saved in file: %s\" % save_path)\n"
   ]
  },
  {
   "cell_type": "code",
   "execution_count": 93,
   "metadata": {},
   "outputs": [
    {
     "name": "stdout",
     "output_type": "stream",
     "text": [
      "<tf.Variable 'rnn/basic_lstm_cell/kernel:0' shape=(130, 200) dtype=float32_ref>\n",
      "<tf.Variable 'rnn/basic_lstm_cell/bias:0' shape=(200,) dtype=float32_ref>\n",
      "<tf.Variable 'basic_lstm_cell/kernel:0' shape=(56, 16) dtype=float32_ref>\n",
      "<tf.Variable 'basic_lstm_cell/bias:0' shape=(16,) dtype=float32_ref>\n"
     ]
    }
   ],
   "source": [
    "for v in range(len(tf.trainable_variables())):\n",
    "    print(tf.trainable_variables()[v])"
   ]
  },
  {
   "cell_type": "code",
   "execution_count": 92,
   "metadata": {},
   "outputs": [
    {
     "data": {
      "text/plain": [
       "10"
      ]
     },
     "execution_count": 92,
     "metadata": {},
     "output_type": "execute_result"
    },
    {
     "data": {
      "image/png": "[encoded data removed]",
      "text/plain": [
       "<matplotlib.figure.Figure at 0x1cd8d7cf940>"
      ]
     },
     "metadata": {},
     "output_type": "display_data"
    }
   ],
   "source": [
    "plt.plot(loss_hist, label=\"Loss History\")\n",
    "plt.legend()\n",
    "plt.show\n",
    "len(loss_hist)"
   ]
  },
  {
   "cell_type": "code",
   "execution_count": 95,
   "metadata": {},
   "outputs": [
    {
     "name": "stdout",
     "output_type": "stream",
     "text": [
      "Load the model from: First_Trial\n",
      "INFO:tensorflow:Restoring parameters from model/First_Trial\n",
      "Timestep =  0\n",
      "Timestep =  50\n",
      "Timestep =  100\n",
      "Timestep =  150\n",
      "Timestep =  200\n",
      "Timestep =  250\n",
      "Timestep =  300\n",
      "Timestep =  350\n",
      "Timestep =  400\n",
      "Timestep =  450\n",
      "Timestep =  500\n",
      "Timestep =  550\n",
      "Timestep =  600\n",
      "Timestep =  650\n",
      "Timestep =  700\n",
      "Timestep =  750\n",
      "(10, 78, 768, 2)\n"
     ]
    }
   ],
   "source": [
    "# Music Generation\n",
    "# input = initial note vector\n",
    "# for t = 1:Tsong\n",
    "#    input --> input kernel\n",
    "#    run through 1 'call' of Model LSTM with present parameters / states\n",
    "#    run through note-wise LSTM block as normally done to produce vector of generated samples\n",
    "#    input = generated samples\n",
    "#    music_sequence.append(input)\n",
    "\n",
    "# store batch of music sequences in .MIDI files\n",
    "\n",
    "\n",
    "#Load Model\n",
    "restore_model_name = 'First_Trial'\n",
    "\n",
    "#Length of generated music\n",
    "T_gen = 48*16\n",
    "batch_gen_size = 10\n",
    "\n",
    "\n",
    "# start with initial Note_State_Batch with 't' dimension = 1 (can still a batch of samples run in parallel)\n",
    "notes_gen_initial = np.zeros((batch_gen_size, num_notes, 1,2))\n",
    "\n",
    "# Initial States\n",
    "notes_gen = notes_gen_initial\n",
    "c_run = np.zeros((batch_gen_size, num_notes, num_units)) # timewise states must care from 'batch' to 'batch' (single time steps)\n",
    "h_run = np.zeros((batch_gen_size, num_notes, num_units))   \n",
    "notes_gen_arr=[]\n",
    "final_t_sample_run = np.zeros((batch_size, num_notes, 1, 2))  # each time step utilizes information from previous note\n",
    "\n",
    "with tf.Session() as sess:\n",
    "    sess.run(tf.global_variables_initializer())\n",
    "    saver = tf.train.Saver()\n",
    "    \n",
    "    print(\"Load the model from: {}\".format(restore_model_name))\n",
    "    saver.restore(sess, 'model/{}'.format(restore_model_name))\n",
    "    \n",
    "\n",
    "    for t in range(T_gen):\n",
    "        feed_dict = {Note_State_Batch: notes_gen_initial, timewise_c: c_run, timewise_h: h_run, prev_t_sample: final_t_sample_run}       \n",
    "        final_t_sample_run, state_run, notes_gen = np.squeeze(sess.run([final_t_sample, timewise_state, pa_gen_out], feed_dict = feed_dict), axis=2)\n",
    "        c_run, h_run = state_run\n",
    "        #print('notes_gen shape = ', notes_gen.shape)\n",
    "        #notes_gen = np.squeeze(notes_gen, axis=2)\n",
    "        notes_gen_arr.append(np.squeeze(notes_gen))\n",
    "        \n",
    "        \n",
    "        if t % 50 == 0:\n",
    "            print('Timestep = ', t)\n",
    "    \n",
    "notes_gen_out = np.stack(notes_gen_arr, axis=2)\n",
    "print(notes_gen_out.shape)\n",
    "        \n"
   ]
  },
  {
   "cell_type": "markdown",
   "metadata": {},
   "source": [
    "Items to Experiment with:\n",
    "- different T length or variable length T from batch-to-batch for training\n",
    "- categorize music, either through (unsupervised) clustering or (supervised) labeled music folders.  For clustering, the model would possibly find 'k' 'centroids' in an unsupervised manner each with its own music distribution, so during the music generation stage, 1 of these centroids would be selected for a piece of music.  \n",
    "- use encoder to reduce dimensionality of each note vector (vector of 79 notes in 1 time step), similiar to encoding the words from the tweets in homework 3 (i.e. there are restricted combinations of notes that can be played simultaneously)\n",
    "- more advanced sampling/exploring for training/music generation.  This may help prevent the algorithm from getting 'stuck' on a chord, or "
   ]
  }
 ],
 "metadata": {
  "kernelspec": {
   "display_name": "Python 3",
   "language": "python",
   "name": "python3"
  },
  "language_info": {
   "codemirror_mode": {
    "name": "ipython",
    "version": 3
   },
   "file_extension": ".py",
   "mimetype": "text/x-python",
   "name": "python",
   "nbconvert_exporter": "python",
   "pygments_lexer": "ipython3",
   "version": "3.6.1"
  }
 },
 "nbformat": 4,
 "nbformat_minor": 2
}
