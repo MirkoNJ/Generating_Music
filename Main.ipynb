{
 "cells": [
  {
   "cell_type": "code",
   "execution_count": 51,
   "metadata": {},
   "outputs": [
    {
     "name": "stdout",
     "output_type": "stream",
     "text": [
      "The autoreload extension is already loaded. To reload it, use:\n",
      "  %reload_ext autoreload\n"
     ]
    }
   ],
   "source": [
    "import tensorflow as tf\n",
    "import numpy as np\n",
    "from tensorflow.python.ops import math_ops\n",
    "import matplotlib.pyplot as plt\n",
    "import time\n",
    "\n",
    "# Plot configurations\n",
    "% matplotlib inline\n",
    "# Notebook auto reloads code. (Ref: http://stackoverflow.com/questions/1907993/autoreload-of-modules-in-ipython)\n",
    "% load_ext autoreload\n",
    "% autoreload 2"
   ]
  },
  {
   "cell_type": "code",
   "execution_count": 154,
   "metadata": {
    "scrolled": true
   },
   "outputs": [
    {
     "name": "stdout",
     "output_type": "stream",
     "text": [
      "(?, 79, ?)\n",
      "Note_State_Filt Shape =  (?, 79, ?, 55)\n"
     ]
    }
   ],
   "source": [
    "#Input to Network\n",
    "\n",
    "from tensorflow.contrib.rnn import BasicLSTMCell\n",
    "from tensorflow.contrib.rnn import LSTMStateTuple\n",
    "from MyFunctions import Input_Kernel, LSTM_TimeWise_Training_Layer, LSTM_NoteWise_Layer, Loss_Function\n",
    "\n",
    "tf.reset_default_graph()\n",
    "\n",
    "# Convert Entire Music .MIDI set to Tensor form 1st.  \n",
    "# During training, the amount of training data sampled will likely greatly outnumber the data we have\n",
    "# The NSB generator and Input Kernel are not trainable, it would be more efficient to just run the entire training and validation sets \n",
    "# through these functions one time at the beginning to generate a massive numpy tensor used for the model graph input.\n",
    "# However, this will make it trickier to do batches with different #time steps\n",
    "# For now: during the training loop, each iteration will involve converting the batch of .MIDI data to Note_State_Batch\n",
    "# Note_State_Batch (numpy) will be used for the placeholder input to the graph\n",
    "\n",
    "\n",
    "#Note State Batch (NSB) Generator\n",
    "Midi_high = 102\n",
    "Midi_low = 24\n",
    "\n",
    "num_notes = Midi_high - Midi_low + 1\n",
    "Note_State_Batch = tf.placeholder(dtype=tf.float32, shape=[None, num_notes, None])\n",
    "\n",
    "print(Note_State_Batch.get_shape())\n",
    "\n",
    "#Input Kernel\n",
    "input_size = 1 + 12 + 25 + 12 + 4 + 1\n",
    "Note_State_Expand = Input_Kernel(Note_State_Batch)\n",
    "\n",
    "print('Note_State_Filt Shape = ', Note_State_Expand.get_shape())\n"
   ]
  },
  {
   "cell_type": "code",
   "execution_count": 155,
   "metadata": {
    "scrolled": true
   },
   "outputs": [
    {
     "name": "stdout",
     "output_type": "stream",
     "text": [
      "Time-wise output shape =  (?, 79, ?, 100)\n"
     ]
    }
   ],
   "source": [
    "#lSTM Time Wise Training Graph \n",
    "\n",
    "\n",
    "#Note_State_Expand = tf.placeholder(dtype=tf.float32, shape=[None, num_notes, None, input_size])\n",
    "timewise_out = LSTM_TimeWise_Training_Layer(Note_State_Expand, num_units=100)\n",
    "\n",
    "\n",
    "\n",
    "print('Time-wise output shape = ', timewise_out.get_shape())\n"
   ]
  },
  {
   "cell_type": "code",
   "execution_count": 156,
   "metadata": {},
   "outputs": [
    {
     "name": "stdout",
     "output_type": "stream",
     "text": [
      "logP out shape =  (?, 79, ?, 3)\n",
      "generated samples shape =  (?, 79, ?, 1)\n"
     ]
    }
   ],
   "source": [
    "#LSTM Note Wise Graph\n",
    "\n",
    "logP_out, pa_gen_out = LSTM_NoteWise_Layer(timewise_out)\n",
    "\n",
    "\n",
    "print('logP out shape = ', logP_out.get_shape())\n",
    "print('generated samples shape = ', pa_gen_out.get_shape())\n",
    "\n",
    "\n"
   ]
  },
  {
   "cell_type": "code",
   "execution_count": 157,
   "metadata": {},
   "outputs": [
    {
     "name": "stdout",
     "output_type": "stream",
     "text": [
      "logP :  Tensor(\"Reshape_9:0\", shape=(?, 79, ?, 3), dtype=float32)\n",
      "logP align:  Tensor(\"Slice:0\", shape=(?, ?, ?, ?), dtype=float32)\n",
      "Note_State_Batch:  Tensor(\"Placeholder:0\", shape=(?, 79, ?), dtype=float32)\n",
      "Note_State_Batch_align:  Tensor(\"Cast_81:0\", shape=(?, ?, ?), dtype=int64)\n"
     ]
    }
   ],
   "source": [
    "# Loss Function and Optimizer\n",
    "\n",
    "\n",
    "loss = Loss_Function(Note_State_Batch, logP_out)\n",
    "\n",
    "optimizer = tf.train.GradientDescentOptimizer(learning_rate = .1).minimize(loss)\n",
    "\n"
   ]
  },
  {
   "cell_type": "code",
   "execution_count": 159,
   "metadata": {},
   "outputs": [
    {
     "name": "stdout",
     "output_type": "stream",
     "text": [
      "Load the model from: Trained Model\n",
      "INFO:tensorflow:Restoring parameters from model/Trained Model\n",
      "epoch =  0 ; loss =  0.349225\n",
      "epoch =  1 ; loss =  0.327145\n",
      "Model saved in file: model/Trained Model\n"
     ]
    }
   ],
   "source": [
    "# Training\n",
    "N_epochs = 2\n",
    "loss_hist=[]\n",
    "restore_model_name = 'Trained Model'\n",
    "save_model_name = 'Trained Model'\n",
    "batch_size = 10\n",
    "num_timesteps = 5\n",
    "\n",
    "with tf.Session() as sess:\n",
    "    sess.run(tf.global_variables_initializer())\n",
    "    saver = tf.train.Saver()\n",
    "    # try to restore the pre_trained\n",
    "    if restore_model_name is not None:\n",
    "        print(\"Load the model from: {}\".format(restore_model_name))\n",
    "        saver.restore(sess, 'model/{}'.format(restore_model_name))\n",
    "\n",
    "    for epoch in range(N_epochs):\n",
    "        \n",
    "        #Generate Note_State Batch numpy tensor\n",
    "        batch_input = np.random.randint(low=0, high=1, size=[batch_size, num_notes, num_timesteps]).astype(np.float32)\n",
    "        \n",
    "        loss_out, _ = sess.run([loss, optimizer], feed_dict={Note_State_Batch: batch_input})\n",
    "        print('epoch = ', epoch, '; loss = ', loss_out)\n",
    "        loss_hist.append(loss_out)\n",
    "        \n",
    "    save_path = saver.save(sess, 'model/{}'.format(save_model_name))\n",
    "    print(\"Model saved in file: %s\" % save_path)\n"
   ]
  },
  {
   "cell_type": "code",
   "execution_count": 160,
   "metadata": {},
   "outputs": [
    {
     "name": "stdout",
     "output_type": "stream",
     "text": [
      "<tf.Variable 'rnn/basic_lstm_cell/kernel:0' shape=(155, 400) dtype=float32_ref>\n",
      "<tf.Variable 'rnn/basic_lstm_cell/bias:0' shape=(400,) dtype=float32_ref>\n",
      "<tf.Variable 'basic_lstm_cell/kernel:0' shape=(104, 12) dtype=float32_ref>\n",
      "<tf.Variable 'basic_lstm_cell/bias:0' shape=(12,) dtype=float32_ref>\n"
     ]
    }
   ],
   "source": [
    "for v in range(len(tf.trainable_variables())):\n",
    "    print(tf.trainable_variables()[v])"
   ]
  },
  {
   "cell_type": "code",
   "execution_count": 75,
   "metadata": {},
   "outputs": [
    {
     "data": {
      "text/plain": [
       "10"
      ]
     },
     "execution_count": 75,
     "metadata": {},
     "output_type": "execute_result"
    },
    {
     "data": {
      "image/png": "[encoded data removed]",
      "text/plain": [
       "<matplotlib.figure.Figure at 0x262089f9b38>"
      ]
     },
     "metadata": {},
     "output_type": "display_data"
    }
   ],
   "source": [
    "plt.plot(loss_hist, label=\"Loss History\")\n",
    "plt.legend()\n",
    "plt.show\n",
    "len(loss_hist)"
   ]
  },
  {
   "cell_type": "code",
   "execution_count": 6,
   "metadata": {},
   "outputs": [
    {
     "ename": "ValueError",
     "evalue": "Cannot feed value of shape (10, 79, 1) for Tensor 'Placeholder:0', which has shape '(10, 79, 128)'",
     "output_type": "error",
     "traceback": [
      "\u001b[1;31m---------------------------------------------------------------------------\u001b[0m",
      "\u001b[1;31mValueError\u001b[0m                                Traceback (most recent call last)",
      "\u001b[1;32m<ipython-input-6-c6f0b5c5ec28>\u001b[0m in \u001b[0;36m<module>\u001b[1;34m()\u001b[0m\n\u001b[0;32m      9\u001b[0m     \u001b[0msess\u001b[0m\u001b[1;33m.\u001b[0m\u001b[0mrun\u001b[0m\u001b[1;33m(\u001b[0m\u001b[0mtf\u001b[0m\u001b[1;33m.\u001b[0m\u001b[0mglobal_variables_initializer\u001b[0m\u001b[1;33m(\u001b[0m\u001b[1;33m)\u001b[0m\u001b[1;33m)\u001b[0m\u001b[1;33m\u001b[0m\u001b[0m\n\u001b[0;32m     10\u001b[0m     \u001b[1;32mfor\u001b[0m \u001b[0mt\u001b[0m \u001b[1;32min\u001b[0m \u001b[0mrange\u001b[0m\u001b[1;33m(\u001b[0m\u001b[0mT_gen\u001b[0m\u001b[1;33m)\u001b[0m\u001b[1;33m:\u001b[0m\u001b[1;33m\u001b[0m\u001b[0m\n\u001b[1;32m---> 11\u001b[1;33m         \u001b[0mnotes_gen\u001b[0m \u001b[1;33m=\u001b[0m \u001b[0msess\u001b[0m\u001b[1;33m.\u001b[0m\u001b[0mrun\u001b[0m\u001b[1;33m(\u001b[0m\u001b[0mpa_gen_out\u001b[0m\u001b[1;33m,\u001b[0m \u001b[0mfeed_dict\u001b[0m \u001b[1;33m=\u001b[0m \u001b[1;33m{\u001b[0m\u001b[0mNote_State_Batch\u001b[0m\u001b[1;33m:\u001b[0m \u001b[0mnotes_gen\u001b[0m\u001b[1;33m}\u001b[0m\u001b[1;33m)\u001b[0m\u001b[1;33m\u001b[0m\u001b[0m\n\u001b[0m\u001b[0;32m     12\u001b[0m         \u001b[0mnotes_gen_arr\u001b[0m\u001b[1;33m.\u001b[0m\u001b[0mappend\u001b[0m\u001b[1;33m(\u001b[0m\u001b[0mnotes_gen\u001b[0m\u001b[1;33m)\u001b[0m\u001b[1;33m\u001b[0m\u001b[0m\n\u001b[0;32m     13\u001b[0m \u001b[1;33m\u001b[0m\u001b[0m\n",
      "\u001b[1;32mC:\\Users\\Paul\\Anaconda3\\lib\\site-packages\\tensorflow\\python\\client\\session.py\u001b[0m in \u001b[0;36mrun\u001b[1;34m(self, fetches, feed_dict, options, run_metadata)\u001b[0m\n\u001b[0;32m    893\u001b[0m     \u001b[1;32mtry\u001b[0m\u001b[1;33m:\u001b[0m\u001b[1;33m\u001b[0m\u001b[0m\n\u001b[0;32m    894\u001b[0m       result = self._run(None, fetches, feed_dict, options_ptr,\n\u001b[1;32m--> 895\u001b[1;33m                          run_metadata_ptr)\n\u001b[0m\u001b[0;32m    896\u001b[0m       \u001b[1;32mif\u001b[0m \u001b[0mrun_metadata\u001b[0m\u001b[1;33m:\u001b[0m\u001b[1;33m\u001b[0m\u001b[0m\n\u001b[0;32m    897\u001b[0m         \u001b[0mproto_data\u001b[0m \u001b[1;33m=\u001b[0m \u001b[0mtf_session\u001b[0m\u001b[1;33m.\u001b[0m\u001b[0mTF_GetBuffer\u001b[0m\u001b[1;33m(\u001b[0m\u001b[0mrun_metadata_ptr\u001b[0m\u001b[1;33m)\u001b[0m\u001b[1;33m\u001b[0m\u001b[0m\n",
      "\u001b[1;32mC:\\Users\\Paul\\Anaconda3\\lib\\site-packages\\tensorflow\\python\\client\\session.py\u001b[0m in \u001b[0;36m_run\u001b[1;34m(self, handle, fetches, feed_dict, options, run_metadata)\u001b[0m\n\u001b[0;32m   1098\u001b[0m                 \u001b[1;34m'Cannot feed value of shape %r for Tensor %r, '\u001b[0m\u001b[1;33m\u001b[0m\u001b[0m\n\u001b[0;32m   1099\u001b[0m                 \u001b[1;34m'which has shape %r'\u001b[0m\u001b[1;33m\u001b[0m\u001b[0m\n\u001b[1;32m-> 1100\u001b[1;33m                 % (np_val.shape, subfeed_t.name, str(subfeed_t.get_shape())))\n\u001b[0m\u001b[0;32m   1101\u001b[0m           \u001b[1;32mif\u001b[0m \u001b[1;32mnot\u001b[0m \u001b[0mself\u001b[0m\u001b[1;33m.\u001b[0m\u001b[0mgraph\u001b[0m\u001b[1;33m.\u001b[0m\u001b[0mis_feedable\u001b[0m\u001b[1;33m(\u001b[0m\u001b[0msubfeed_t\u001b[0m\u001b[1;33m)\u001b[0m\u001b[1;33m:\u001b[0m\u001b[1;33m\u001b[0m\u001b[0m\n\u001b[0;32m   1102\u001b[0m             \u001b[1;32mraise\u001b[0m \u001b[0mValueError\u001b[0m\u001b[1;33m(\u001b[0m\u001b[1;34m'Tensor %s may not be fed.'\u001b[0m \u001b[1;33m%\u001b[0m \u001b[0msubfeed_t\u001b[0m\u001b[1;33m)\u001b[0m\u001b[1;33m\u001b[0m\u001b[0m\n",
      "\u001b[1;31mValueError\u001b[0m: Cannot feed value of shape (10, 79, 1) for Tensor 'Placeholder:0', which has shape '(10, 79, 128)'"
     ]
    }
   ],
   "source": [
    "# Music Generation\n",
    "#Load Model\n",
    "T_gen = 128\n",
    "# start with initial Note_State_Batch with 't' dimension = 1 (can still a batch of samples run in parallel)\n",
    "notes_gen_initial = np.zeros((batch_size, num_notes, 1))\n",
    "notes_gen = notes_gen_initial\n",
    "notes_gen_arr=[]\n",
    "\n",
    "with tf.Session() as sess:\n",
    "    sess.run(tf.global_variables_initializer())\n",
    "\n",
    "    for t in range(T_gen):\n",
    "        \n",
    "        notes_gen = sess.run(pa_gen_out, feed_dict = {Note_State_Batch: notes_gen})\n",
    "        notes_gen_arr.append(notes_gen)\n",
    "    \n",
    "\n",
    "# input = initial note vector\n",
    "# for t = 1:Tsong\n",
    "#    input --> input kernel\n",
    "#    run through 1 'call' of Model LSTM with present parameters / states\n",
    "#    run through note-wise LSTM block as normally done to produce vector of generated samples\n",
    "#    input = generated samples\n",
    "#    music_sequence.append(input)\n",
    "\n",
    "# store batch of music sequences in .MIDI files"
   ]
  },
  {
   "cell_type": "markdown",
   "metadata": {},
   "source": [
    "Items to Experiment with:\n",
    "- different T length or variable length T from batch-to-batch for training\n",
    "- categorize music, either through (unsupervised) clustering or (supervised) labeled music folders.  For clustering, the model would possibly find 'k' 'centroids' in an unsupervised manner each with its own music distribution, so during the music generation stage, 1 of these centroids would be selected for a piece of music.  \n",
    "- more advanced sampling/exploring for training/music generation"
   ]
  },
  {
   "cell_type": "code",
   "execution_count": 125,
   "metadata": {},
   "outputs": [
    {
     "name": "stdout",
     "output_type": "stream",
     "text": [
      "1.93954\n"
     ]
    }
   ],
   "source": [
    "logits = np.array([3, 3, 5], dtype=np.float32)\n",
    "#label_rest = np.array([1, 0, 0])\n",
    "#label_play_hold = np.array([0, .85, .15])\n",
    "#label_play_artic= np.array([0, .15, .85])\n",
    "\n",
    "#labels = label_play_hold\n",
    "\n",
    "softmax = tf.n.softmax(logits=logits)\n",
    "#loss = tf.nn.softmax_cross_entropy_with_logits(labels=labels, logits=logits)\n",
    "num_classes = 3\n",
    "\n",
    "with tf.Session() as sess:\n",
    "    p=sess.run(softmax)\n",
    "    loss_run = sess.run(loss\n",
    "                       )\n",
    "note_gen = np.random.choice(range(num_classes), p=p)\n",
    "\n",
    "print(loss_run)\n",
    "\n",
    "\n",
    "#Will need some sort of 'for' loop for musical generation\n",
    "#state_initial = tf.zeros([batch_size*num_notes, num_units])\n",
    "#state = LSTMStateTuple(state_initial, state_initial) #(c, h)\n",
    "#for t in range(num_timesteps):\n",
    "#    cell_inputs = Note_State_Flatten[:,:,t]\n",
    "#    out, state = lstmcell(cell_inputs, state)\n",
    "#func = tf.reduce_mean(out_unflatten)\n",
    "#gradients =  tf.train.GradientDescentOptimizer(learning_rate=.01).compute_gradients(func)"
   ]
  }
 ],
 "metadata": {
  "kernelspec": {
   "display_name": "Python 3",
   "language": "python",
   "name": "python3"
  },
  "language_info": {
   "codemirror_mode": {
    "name": "ipython",
    "version": 3
   },
   "file_extension": ".py",
   "mimetype": "text/x-python",
   "name": "python",
   "nbconvert_exporter": "python",
   "pygments_lexer": "ipython3",
   "version": "3.6.1"
  }
 },
 "nbformat": 4,
 "nbformat_minor": 2
}
